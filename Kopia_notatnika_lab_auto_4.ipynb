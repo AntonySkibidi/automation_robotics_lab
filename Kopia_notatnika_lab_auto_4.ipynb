{
  "cells": [
    {
      "cell_type": "markdown",
      "metadata": {
        "id": "view-in-github",
        "colab_type": "text"
      },
      "source": [
        "<a href=\"https://colab.research.google.com/github/AntonySkibidi/automation_robotics_lab/blob/master/Kopia_notatnika_lab_auto_4.ipynb\" target=\"_parent\"><img src=\"https://colab.research.google.com/assets/colab-badge.svg\" alt=\"Open In Colab\"/></a>"
      ]
    },
    {
      "cell_type": "markdown",
      "source": [
        "Antoni Paprocki 252548 Oliwier Janowski 250180 Jędrzej Simiński 250192"
      ],
      "metadata": {
        "id": "gjorOIoPa9zg"
      }
    },
    {
      "cell_type": "markdown",
      "metadata": {
        "id": "0i73ADHatv9L"
      },
      "source": [
        "# Production scheduling -- the job shop problem\n",
        "\n",
        "## Problem Description\n",
        "- We have a number of jobs: Job 0, Job 1, Job 2, ...\n",
        "- We have a number of machines: Machine 0, Machine 1, Machine 2, ...\n",
        "- Each job must be processed on each machine in a specific order.\n",
        "- for example: Job 0 must be processed on Machine 0, then on Machine 1, then on Machine 2.\n",
        "- No machine can process more than one job at a time.\n",
        "- We assume unlimited buffers between machines, so jobs can immediately move to the next machine if it's available.\n",
        "- **Objective**: Minimize the total completion time (makespan), C_max.\n",
        "\n",
        "the effect of the job shop problem is a schedule, frequentely presented as a Gantt chart.\n",
        "\n",
        "# ![Job shop problem example](https://www.researchgate.net/publication/370490241/figure/fig1/AS:11431281155279843@1683131798236/Job-sequence-on-machines-for-a-job-shop-problem-with-3-machines-and-2-jobs.png)\n",
        "\n",
        "The problem is NP-hard, the more jobs and machines, the harder it is to solve.\n",
        "\n"
      ]
    },
    {
      "cell_type": "markdown",
      "metadata": {
        "id": "vsvfTAJxtv9O"
      },
      "source": [
        "## Mini Problem Example\n",
        "\n",
        "### Scenario Setup\n",
        "- **Machines**: 0 and 1\n",
        "- **Jobs**: 0 and 1\n",
        "- Each job has two operations, one on each machine, but in different orders\n",
        "\n",
        "### Job 0\n",
        "- **Operation 1**: Machine 0 → Processing time = 5\n",
        "- **Operation 2**: Machine 1 → Processing time = 6\n",
        "- Thus, Job 0 must go first to Machine 0, then to Machine 1\n",
        "\n",
        "### Job 1\n",
        "- **Operation 1**: Machine 1 → Processing time = 4  \n",
        "- **Operation 2**: Machine 0 → Processing time = 7\n",
        "- Thus, Job 1 must go first to Machine 1, then to Machine 0\n",
        "\n",
        "### Objective\n",
        "Minimize the makespan (C_max)"
      ]
    },
    {
      "cell_type": "code",
      "execution_count": null,
      "metadata": {
        "id": "LEtZo0eRtv9P",
        "outputId": "425a5e8e-4678-4da8-a282-0f36a0911bef"
      },
      "outputs": [
        {
          "name": "stdout",
          "output_type": "stream",
          "text": [
            "Requirement already satisfied: pulp in /home/igor/anaconda3/lib/python3.10/site-packages (3.0.2)\n",
            "\n",
            "\u001b[1m[\u001b[0m\u001b[34;49mnotice\u001b[0m\u001b[1;39;49m]\u001b[0m\u001b[39;49m A new release of pip is available: \u001b[0m\u001b[31;49m24.2\u001b[0m\u001b[39;49m -> \u001b[0m\u001b[32;49m25.0.1\u001b[0m\n",
            "\u001b[1m[\u001b[0m\u001b[34;49mnotice\u001b[0m\u001b[1;39;49m]\u001b[0m\u001b[39;49m To update, run: \u001b[0m\u001b[32;49mpip install --upgrade pip\u001b[0m\n",
            "Status: Optimal\n",
            "Objective (makespan) = 12.0\n",
            "--- Start Times ---\n",
            "s0_0 (Job0 on M0) = 0.0\n",
            "s0_1 (Job0 on M1) = 5.0\n",
            "s1_0 (Job1 on M0) = 5.0\n",
            "s1_1 (Job1 on M1) = 0.0\n",
            "--- Binary Orders ---\n",
            "y0_01 (Machine 0 order) = 1.0\n",
            "y1_01 (Machine 1 order) = 0.0\n"
          ]
        }
      ],
      "source": [
        "!pip install pulp\n",
        "\n",
        "import pulp\n",
        "\n",
        "# 1) Create the problem\n",
        "model = pulp.LpProblem(\"Small_Job_Shop\", pulp.LpMinimize)\n",
        "\n",
        "# 2) Decision variables\n",
        "# Start times:\n",
        "# s0_0: Start time of Job 0 on Machine 0\n",
        "# s0_1: Start time of Job 0 on Machine 1\n",
        "# s1_0: Start time of Job 1 on Machine 0\n",
        "# s1_1: Start time of Job 1 on Machine 1\n",
        "s0_0 = pulp.LpVariable(\"s0_0\", lowBound=0, cat='Continuous')\n",
        "s0_1 = pulp.LpVariable(\"s0_1\", lowBound=0, cat='Continuous')\n",
        "s1_0 = pulp.LpVariable(\"s1_0\", lowBound=0, cat='Continuous')\n",
        "s1_1 = pulp.LpVariable(\"s1_1\", lowBound=0, cat='Continuous')\n",
        "\n",
        "# Makespan\n",
        "Cmax = pulp.LpVariable(\"Cmax\", lowBound=0, cat='Continuous')\n",
        "\n",
        "# 3) Processing times\n",
        "# Job 0: M0=5, then M1=6\n",
        "p0_m0 = 5 # processing time of Job 0 on Machine 0\n",
        "p0_m1 = 6 # processing time of Job 0 on Machine 1\n",
        "\n",
        "# Job 1: M1=4, then M0=7\n",
        "p1_m1 = 4 # processing time of Job 1 on Machine 1\n",
        "p1_m0 = 7 # processing time of Job 1 on Machine 0\n",
        "\n",
        "# 4) Binary variables for machine usage ordering\n",
        "# We need these to ensure no overlap on each machine - each machine can process only one job at a time.\n",
        "# For Machine 0, let y0_01 = 1 if Job 0 finishes before Job 1 starts on M0, else 0.\n",
        "# For Machine 1, let y1_01 = 1 if Job 0 finishes before Job 1 starts on M1, else 0.\n",
        "y0_01 = pulp.LpVariable(\"y0_01\", cat='Binary')  # ordering on Machine 0\n",
        "y1_01 = pulp.LpVariable(\"y1_01\", cat='Binary')  # ordering on Machine 1\n",
        "\n",
        "# Define a \"big M\" large enough to cover maximum possible scheduling time\n",
        "bigM = 9999\n",
        "\n",
        "# 5) OBJECTIVE: minimize Cmax\n",
        "model += Cmax, \"Minimize_the_makespan\"\n",
        "\n",
        "# 6) CONSTRAINTS\n",
        "\n",
        "# -- (A) Operation sequence for each job --\n",
        "\n",
        "# Job 0 must finish on Machine 0 before starting on Machine 1:\n",
        "model += s0_1 >= s0_0 + p0_m0, \"Seq_Job0\" # start time of Job 0 on Machine 1 must be greater than or equal to the start time of Job 0 on Machine 0 plus the processing time of Job 0 on Machine 0\n",
        "\n",
        "# Job 1 must finish on Machine 1 before starting on Machine 0:\n",
        "model += s1_0 >= s1_1 + p1_m1, \"Seq_Job1\" # start time of Job 1 on Machine 0 must be greater than or equal to the start time of Job 1 on Machine 1 plus the processing time of Job 1 on Machine 1\n",
        "\n",
        "# -- (B) No overlap on Machine 0 --\n",
        "# Machine 0 is used by:\n",
        "#   - Job 0 (from s0_0 to s0_0 + p0_m0)\n",
        "#   - Job 1 (from s1_0 to s1_0 + p1_m0)\n",
        "# Use a big-M approach with binary y0_01:\n",
        "\n",
        "# If y0_01 = 1, Job0 finishes before Job1 starts on M0:\n",
        "#     s1_0 >= s0_0 + p0_m0 - bigM*(1 - y0_01)\n",
        "model += s1_0 >= s0_0 + p0_m0 - bigM*(1 - y0_01), \"NoOverlap0a\"\n",
        "\n",
        "# If y0_01 = 0, Job1 finishes before Job0 starts on M0:\n",
        "#     s0_0 >= s1_0 + p1_m0 - bigM*(y0_01)\n",
        "model += s0_0 >= s1_0 + p1_m0 - bigM*(y0_01), \"NoOverlap0b\"\n",
        "\n",
        "# -- (C) No overlap on Machine 1 --\n",
        "# Machine 1 is used by:\n",
        "#   - Job 0 (from s0_1 to s0_1 + p0_m1)\n",
        "#   - Job 1 (from s1_1 to s1_1 + p1_m1)\n",
        "# Use a big-M approach with y1_01:\n",
        "\n",
        "# If y1_01 = 1, Job0 finishes before Job1 starts on M1:\n",
        "#     s1_1 >= s0_1 + p0_m1 - bigM*(1 - y1_01)\n",
        "model += s1_1 >= s0_1 + p0_m1 - bigM*(1 - y1_01), \"NoOverlap1a\"\n",
        "\n",
        "# If y1_01 = 0, Job1 finishes before Job0 starts on M1:\n",
        "#     s0_1 >= s1_1 + p1_m1 - bigM*(y1_01)\n",
        "model += s0_1 >= s1_1 + p1_m1 - bigM*(y1_01), \"NoOverlap1b\"\n",
        "\n",
        "# -- (D) Makespan definition --\n",
        "# Finish time for Job 0 = time it completes on Machine 1 = s0_1 + p0_m1\n",
        "# Finish time for Job 1 = time it completes on Machine 0 = s1_0 + p1_m0\n",
        "\n",
        "model += Cmax >= s0_1 + p0_m1, \"Makespan_Job0\"\n",
        "model += Cmax >= s1_0 + p1_m0, \"Makespan_Job1\"\n",
        "\n",
        "# 7) Solve the model\n",
        "model.solve(pulp.PULP_CBC_CMD(msg=False))\n",
        "\n",
        "# 8) Print results\n",
        "print(\"Status:\", pulp.LpStatus[model.status])\n",
        "print(\"Objective (makespan) =\", pulp.value(model.objective))\n",
        "\n",
        "# Decision variable values:\n",
        "print(\"--- Start Times ---\")\n",
        "print(\"s0_0 (Job0 on M0) =\", pulp.value(s0_0))\n",
        "print(\"s0_1 (Job0 on M1) =\", pulp.value(s0_1))\n",
        "print(\"s1_0 (Job1 on M0) =\", pulp.value(s1_0))\n",
        "print(\"s1_1 (Job1 on M1) =\", pulp.value(s1_1))\n",
        "\n",
        "print(\"--- Binary Orders ---\")\n",
        "print(\"y0_01 (Machine 0 order) =\", pulp.value(y0_01))\n",
        "print(\"y1_01 (Machine 1 order) =\", pulp.value(y1_01))"
      ]
    },
    {
      "cell_type": "code",
      "execution_count": null,
      "metadata": {
        "id": "vIDmD5PMtv9R",
        "outputId": "6742a36c-823d-4054-f6fc-7d65f9c7a6b9"
      },
      "outputs": [
        {
          "data": {
            "image/png": "[encoded data removed]",
            "text/plain": [
              "<Figure size 1000x600 with 1 Axes>"
            ]
          },
          "metadata": {},
          "output_type": "display_data"
        }
      ],
      "source": [
        "import matplotlib.pyplot as plt\n",
        "\n",
        "# Create Gantt chart\n",
        "fig, ax = plt.subplots(figsize=(10, 6))\n",
        "\n",
        "# Colors for each job\n",
        "colors = ['#FF9999', '#66B2FF']\n",
        "\n",
        "# For each machine\n",
        "for m in range(2):\n",
        "    # Plot Job 0 on this machine\n",
        "    if m == 0:\n",
        "        start = pulp.value(s0_0)\n",
        "        duration = p0_m0\n",
        "    else:\n",
        "        start = pulp.value(s0_1)\n",
        "        duration = p0_m1\n",
        "    ax.barh(m, duration, left=start, color=colors[0], label='Job 0' if m==0 else \"\")\n",
        "\n",
        "    # Plot Job 1 on this machine\n",
        "    if m == 0:\n",
        "        start = pulp.value(s1_0)\n",
        "        duration = p1_m0\n",
        "    else:\n",
        "        start = pulp.value(s1_1)\n",
        "        duration = p1_m1\n",
        "    ax.barh(m, duration, left=start, color=colors[1], label='Job 1' if m==0 else \"\")\n",
        "\n",
        "# Customize the chart\n",
        "ax.set_yticks(range(2))\n",
        "ax.set_yticklabels(['Machine 0', 'Machine 1'])\n",
        "ax.set_xlabel('Time')\n",
        "ax.set_title('Job Shop Schedule')\n",
        "ax.grid(True)\n",
        "ax.legend()\n",
        "\n",
        "plt.tight_layout()\n",
        "plt.show()\n"
      ]
    },
    {
      "cell_type": "markdown",
      "metadata": {
        "id": "kFH_ZHcPtv9R"
      },
      "source": [
        "# Excercise 1\n",
        "\n",
        "Play with the code above to see how the schedule changes with different processing times.\n",
        "\n"
      ]
    },
    {
      "cell_type": "markdown",
      "metadata": {
        "id": "R6nmoWrbtv9S"
      },
      "source": [
        "#More general job shop problem example\n",
        "\n",
        "## Data Setup\n",
        "Let's define for each job:\n",
        "- The machine sequence the job must follow\n",
        "- The processing time on each machine (in hours)\n",
        "\n",
        "### Job Specifications:\n",
        "\n",
        "**Job 0:**\n",
        "- Machine sequence: Machine 0 → Machine 1 → Machine 2\n",
        "- Processing times: 5, 6, 4 hours respectively\n",
        "\n",
        "**Job 1:**\n",
        "- Machine sequence: Machine 1 → Machine 2 → Machine 0  \n",
        "- Processing times: 4, 3, 7 hours respectively\n",
        "\n",
        "**Job 2:**\n",
        "- Machine sequence: Machine 0 → Machine 2 → Machine 1\n",
        "- Processing times: 6, 4, 5 hours respectively\n",
        "\n",
        "We will store this data in two parallel 2D lists:\n",
        "- `machine_order`: Contains the sequence of machines for each job\n",
        "- `processing_time`: Contains the corresponding processing times\n",
        "\n"
      ]
    },
    {
      "cell_type": "code",
      "execution_count": null,
      "metadata": {
        "id": "R3w3R1lqtv9S",
        "outputId": "9948566c-cf79-452d-9576-d16ca427f034"
      },
      "outputs": [
        {
          "name": "stdout",
          "output_type": "stream",
          "text": [
            "Solution Status: Optimal\n",
            "Objective (makespan) = 20.0\n",
            "Start time of Job 0 on Machine 0 = 0.0\n",
            "Start time of Job 1 on Machine 0 = 11.0\n",
            "Start time of Job 2 on Machine 0 = 5.0\n",
            "Start time of Job 0 on Machine 1 = 5.0\n",
            "Start time of Job 1 on Machine 1 = 0.0\n",
            "Start time of Job 2 on Machine 1 = 15.0\n",
            "Start time of Job 0 on Machine 2 = 15.0\n",
            "Start time of Job 1 on Machine 2 = 4.0\n",
            "Start time of Job 2 on Machine 2 = 11.0\n"
          ]
        }
      ],
      "source": [
        "import pulp\n",
        "\n",
        "#Parameters\n",
        "num_jobs = 3\n",
        "num_machines = 3\n",
        "\n",
        "#Machine order\n",
        "machine_order = [\n",
        "    [0, 1, 2],  # Job 0\n",
        "    [1, 2, 0],  # Job 1\n",
        "    [0, 2, 1]   # Job 2\n",
        "]\n",
        "\n",
        "#Processing time\n",
        "processing_time = [\n",
        "    [5, 6, 4],  # Job 0\n",
        "    [4, 3, 7],  # Job 1\n",
        "    [6, 4, 5]   # Job 2\n",
        "]\n",
        "\n",
        "\n",
        "#Variables\n",
        "start_time = pulp.LpVariable.dicts(\n",
        "    \"start_time\",\n",
        "    [(m, j) for m in range(num_machines) for j in range(num_jobs)],\n",
        "    lowBound=0,\n",
        "    cat='Continuous'\n",
        ")\n",
        "Cmax = pulp.LpVariable('Cmax', lowBound=0, cat='Continuous')\n",
        "\n",
        "#Model\n",
        "model = pulp.LpProblem(\"Job_Shop_Scheduling\", pulp.LpMinimize)\n",
        "model += Cmax, \"Minimize_makespan\"\n",
        "\n",
        "#Constrains\n",
        "\n",
        "for j in range(num_jobs):\n",
        "    for op in range(num_machines - 1):\n",
        "        current_machine = machine_order[j][op]\n",
        "        next_machine = machine_order[j][op + 1]\n",
        "        current_op_time = processing_time[j][op]\n",
        "        model += start_time[next_machine, j] >= (\n",
        "            start_time[current_machine, j] + current_op_time\n",
        "        ), f\"SequenceConstraint_Job{j}_Op{op}\"\n",
        "\n",
        "bigM = 9999\n",
        "y = pulp.LpVariable.dicts(\n",
        "    \"y\",\n",
        "    [(m, j1, j2) for m in range(num_machines) for j1 in range(num_jobs) for j2 in range(num_jobs) if j1 != j2],\n",
        "    cat='Binary'\n",
        ")\n",
        "\n",
        "for m in range(num_machines):\n",
        "    for j1 in range(num_jobs):\n",
        "        for j2 in range(num_jobs):\n",
        "            if j1 != j2:\n",
        "                op_j1 = machine_order[j1].index(m)\n",
        "                proc_j1 = processing_time[j1][op_j1]\n",
        "\n",
        "                op_j2 = machine_order[j2].index(m)\n",
        "                proc_j2 = processing_time[j2][op_j2]\n",
        "                model += start_time[m, j2] >= start_time[m, j1] + proc_j1 - bigM * (1 - y[m, j1, j2])\n",
        "                model += start_time[m, j1] >= start_time[m, j2] + proc_j2 - bigM * (y[m, j1, j2])\n",
        "\n",
        "for j in range(num_jobs):\n",
        "    last_machine = machine_order[j][-1]\n",
        "    last_op_idx = num_machines - 1\n",
        "    finish_time_j = start_time[last_machine, j] + processing_time[j][last_op_idx]\n",
        "\n",
        "    model += Cmax >= finish_time_j, f\"CmaxConstraint_Job{j}\"\n",
        "\n",
        "#Solve\n",
        "model.solve(pulp.PULP_CBC_CMD(msg=False))\n",
        "\n",
        "print(\"Solution Status:\", pulp.LpStatus[model.status])\n",
        "print(\"Objective (makespan) =\", pulp.value(model.objective))\n",
        "\n",
        "#Print\n",
        "for (m, j) in start_time:\n",
        "    print(f\"Start time of Job {j} on Machine {m} = {pulp.value(start_time[m, j])}\")\n"
      ]
    },
    {
      "cell_type": "markdown",
      "source": [
        "This code solves a job-shop scheduling problem with three jobs processed on three machines. Each job has a specific order of operations, and the goal is to minimize the total completion time, known as the makespan.\n",
        "\n",
        "The model uses decision variables to set the start time for each job on each machine and binary variables to determine the order of jobs on the same machine, ensuring no overlap.\n",
        "\n",
        "Rules ensure jobs are completed in the correct order; a job cannot start the next operation until it finishes the previous one. Additional rules prevent the simultaneous processing of two jobs on one machine.\n",
        "\n",
        "The model identifies the makespan as the latest finishing time among all jobs and aims to minimize it. A linear programming solver finds the optimal start times for each job and the minimized\n"
      ],
      "metadata": {
        "id": "d_KSrYnFYe5k"
      }
    },
    {
      "cell_type": "code",
      "execution_count": null,
      "metadata": {
        "id": "LEALyM8atv9T",
        "outputId": "9a27c850-5100-4f03-ce0b-ee1681508425"
      },
      "outputs": [
        {
          "data": {
            "image/png": "[encoded data removed]",
            "text/plain": [
              "<Figure size 1200x600 with 1 Axes>"
            ]
          },
          "metadata": {},
          "output_type": "display_data"
        }
      ],
      "source": [
        "#Create Gantt chart\n",
        "import matplotlib.pyplot as plt\n",
        "import matplotlib.patches as patches\n",
        "import colorsys\n",
        "\n",
        "#Dynamic sizing\n",
        "fig_height = max(6, num_machines * 0.5)\n",
        "fig, ax = plt.subplots(figsize=(12, fig_height))\n",
        "\n",
        "#Generate colors\n",
        "def generate_colors(n):\n",
        "    colors = []\n",
        "    for i in range(n):\n",
        "        hue = i / n\n",
        "        saturation = 0.7\n",
        "        value = 0.9\n",
        "        rgb = colorsys.hsv_to_rgb(hue, saturation, value)\n",
        "        colors.append(rgb)\n",
        "    return colors\n",
        "\n",
        "colors = generate_colors(num_jobs)\n",
        "\n",
        "for m in range(num_machines):\n",
        "    for j in range(num_jobs):\n",
        "        start = pulp.value(start_time[m, j])\n",
        "        op_idx = machine_order[j].index(m)\n",
        "        duration = processing_time[j][op_idx]\n",
        "        rect_height = min(0.8, 0.95 - (0.01 * num_machines))\n",
        "\n",
        "        rect = patches.Rectangle(\n",
        "            (start, m),                     #(x,y)\n",
        "            duration,                       #width\n",
        "            rect_height,                    #height\n",
        "            facecolor=colors[j],\n",
        "            edgecolor='black',\n",
        "            alpha=0.7\n",
        "        )\n",
        "\n",
        "        #Add rectangle\n",
        "        ax.add_patch(rect)\n",
        "        text_size = max(8, min(10, 200/(num_jobs * num_machines)))\n",
        "        ax.text(start + duration/2, m + rect_height/2, f'J{j}',\n",
        "                horizontalalignment='center',\n",
        "                verticalalignment='center',\n",
        "                fontsize=text_size)\n",
        "\n",
        "#Customize\n",
        "ax.set_ylim(-0.5, num_machines - 0.5)\n",
        "ax.set_xlim(0, pulp.value(Cmax) * 1.05)  #Add 5% margin\n",
        "\n",
        "#Adjust\n",
        "tick_size = max(8, min(10, 120/num_machines))\n",
        "ax.set_yticks(range(num_machines))\n",
        "ax.set_yticklabels([f'Machine {m}' for m in range(num_machines)], fontsize=tick_size)\n",
        "ax.set_xlabel('Time', fontsize=tick_size)\n",
        "ax.grid(True, axis='x', linestyle='--', alpha=0.7)\n",
        "\n",
        "plt.title('Job Shop Schedule - Gantt Chart', pad=20, fontsize=tick_size + 2)\n",
        "plt.tight_layout()\n",
        "plt.show()\n"
      ]
    },
    {
      "cell_type": "markdown",
      "source": [
        "The chart has machines on the y-axis and time on the x-axis. Each job on a machine is shown as a colored bar that indicates the start time and duration of the job.\n",
        "\n",
        "The colors are unique for each job, and the bars are sized and spaced to ensure they are easy to read. The chart labels each machine on the y-axis and shows job IDs on the bars, with a grid to help interpret the timing. This visualization helps quickly understand when each job is scheduled on the machines."
      ],
      "metadata": {
        "id": "DvPtbIFJaQJz"
      }
    },
    {
      "cell_type": "markdown",
      "metadata": {
        "id": "PMuDOEBGtv9T"
      },
      "source": [
        "# Excercise 1b:\n",
        "Play with the code above, see how the Cmax changes with different processing times, different variations of the problem.\n",
        "# Excercise 2\n",
        "\n",
        "Add a machine to the problem. Use %%timeit to see how the solver performance changes."
      ]
    },
    {
      "cell_type": "markdown",
      "metadata": {
        "id": "qwrX9CZutv9U"
      },
      "source": [
        "# Excercise 3:\n",
        "\n",
        "Make the problem interactive, add a way to specify the number of jobs and machines interactively"
      ]
    },
    {
      "cell_type": "markdown",
      "metadata": {
        "id": "vRTb0sEDtv9U"
      },
      "source": [
        "The problem can be very hard for a larger number of jobs and machines. There are some heuristics that can be used to solve it. Some interesting methods are:\n",
        "- Genetic algorithms\n",
        "- Simulated annealing\n",
        "- Tabu search\n",
        "- Ant colony optimization\n",
        "- Particle swarm optimization\n"
      ]
    },
    {
      "cell_type": "code",
      "source": [
        "!pip install pygad\n",
        "import random\n",
        "import numpy as np\n",
        "import matplotlib.pyplot as plt\n",
        "\n",
        "#Define\n",
        "random.seed(42)\n",
        "np.random.seed(42)\n",
        "\n",
        "num_jobs = 5\n",
        "num_machines = 4\n",
        "\n",
        "#Define random machine sequence\n",
        "machines = list(range(num_machines))\n",
        "job_sequences = [random.sample(machines, num_machines) for _ in range(num_jobs)]\n",
        "processing_times = [[random.randint(1, 10) for _ in range(num_machines)] for _ in range(num_jobs)]\n",
        "\n",
        "print(\"Job sequences (job: machine order):\")\n",
        "for j in range(num_jobs):\n",
        "    print(f\" Job{j}: {job_sequences[j]}, times: {processing_times[j]}\")\n",
        "\n",
        "#Initial population\n",
        "jobs_rep = []\n",
        "for j in range(num_jobs):\n",
        "    jobs_rep.extend([j] * num_machines)\n",
        "pop_size = 30\n",
        "initial_population = []\n",
        "for _ in range(pop_size):\n",
        "    ind = jobs_rep.copy()\n",
        "    random.shuffle(ind)\n",
        "    initial_population.append(np.array(ind))\n",
        "initial_population = np.array(initial_population)\n",
        "\n",
        "\n",
        "def decode_schedule(sequence):\n",
        "    job_next_op = [0] * num_jobs\n",
        "    job_end_time = [0] * num_jobs\n",
        "    machine_end_time = [0] * num_machines\n",
        "    schedule = []\n",
        "    for gene in sequence:\n",
        "        j = int(gene)\n",
        "        op_index = job_next_op[j]\n",
        "        machine = job_sequences[j][op_index]\n",
        "        duration = processing_times[j][op_index]\n",
        "\n",
        "        start = max(job_end_time[j], machine_end_time[machine])\n",
        "        end = start + duration\n",
        "\n",
        "        schedule.append((j, op_index, start, end, machine))\n",
        "\n",
        "\n",
        "        job_end_time[j] = end\n",
        "        machine_end_time[machine] = end\n",
        "        job_next_op[j] += 1\n",
        "    makespan = max([end for (_, _, _, end, _) in schedule]) if schedule else 0\n",
        "    return schedule, makespan\n",
        "\n",
        "#Example decoding of a random solution\n",
        "test_seq = initial_population[0]\n",
        "sched, mk = decode_schedule(test_seq)\n",
        "print(f\"Example makespan (first random individual): {mk}\")\n",
        "\n",
        "import pygad\n",
        "#Fit function\n",
        "def fitness_func(ga_instance, solution, solution_idx):\n",
        "    _, makespan = decode_schedule(solution)\n",
        "    return -makespan\n",
        "\n",
        "# Set up GA\n",
        "ga = pygad.GA(initial_population=initial_population,\n",
        "              fitness_func=fitness_func,\n",
        "              num_generations=100,\n",
        "              num_parents_mating=10,\n",
        "              parent_selection_type=\"tournament\",\n",
        "              keep_parents=1,\n",
        "              crossover_type=None,\n",
        "              mutation_type=\"swap\",\n",
        "              mutation_percent_genes=5)\n",
        "\n",
        "#Run GA\n",
        "ga.run()\n",
        "best_solution, best_fitness, _ = ga.best_solution()\n",
        "best_schedule, best_makespan = decode_schedule(best_solution)\n",
        "print(f\"Best makespan found by GA: {best_makespan}\")\n",
        "print(f\"Best sequence (job-list encoding): {best_solution}\")\n",
        "\n",
        "#Build chart\n",
        "machine_tasks = {m: [] for m in range(num_machines)}\n",
        "for (job, op, start, end, machine) in best_schedule:\n",
        "    machine_tasks[machine].append((job, start, end))\n",
        "\n",
        "#Sort\n",
        "for m in machine_tasks:\n",
        "    machine_tasks[m].sort(key=lambda x: x[1])\n",
        "\n",
        "#Plot Gantt chart\n",
        "fig, ax = plt.subplots(figsize=(8, 6))\n",
        "colors = plt.cm.tab20.colors\n",
        "for m in range(num_machines):\n",
        "    for (job, start, end) in machine_tasks[m]:\n",
        "        ax.barh(m, end - start, left=start, height=0.6,\n",
        "                color=colors[job % len(colors)], edgecolor='black')\n",
        "        ax.text(start + (end - start)/2, m, f\"Job{job}\",\n",
        "                ha='center', va='center', color='white', fontsize=8)\n",
        "ax.set_yticks(range(num_machines))\n",
        "ax.set_yticklabels([f\"Machine {m}\" for m in range(num_machines)])\n",
        "ax.set_xlabel(\"Time\")\n",
        "ax.set_title(\"Gantt Chart of the GA Schedule\")\n",
        "plt.tight_layout()\n",
        "plt.show()"
      ],
      "metadata": {
        "id": "J8o1jGJBxibo",
        "outputId": "726f7230-c31c-4ede-d508-72993c5dca8f",
        "colab": {
          "base_uri": "https://localhost:8080/",
          "height": 989
        }
      },
      "execution_count": null,
      "outputs": [
        {
          "output_type": "stream",
          "name": "stdout",
          "text": [
            "Requirement already satisfied: pygad in /usr/local/lib/python3.11/dist-packages (3.4.0)\n",
            "Requirement already satisfied: cloudpickle in /usr/local/lib/python3.11/dist-packages (from pygad) (3.1.1)\n",
            "Requirement already satisfied: matplotlib in /usr/local/lib/python3.11/dist-packages (from pygad) (3.10.0)\n",
            "Requirement already satisfied: numpy in /usr/local/lib/python3.11/dist-packages (from pygad) (2.0.2)\n",
            "Requirement already satisfied: contourpy>=1.0.1 in /usr/local/lib/python3.11/dist-packages (from matplotlib->pygad) (1.3.2)\n",
            "Requirement already satisfied: cycler>=0.10 in /usr/local/lib/python3.11/dist-packages (from matplotlib->pygad) (0.12.1)\n",
            "Requirement already satisfied: fonttools>=4.22.0 in /usr/local/lib/python3.11/dist-packages (from matplotlib->pygad) (4.58.0)\n",
            "Requirement already satisfied: kiwisolver>=1.3.1 in /usr/local/lib/python3.11/dist-packages (from matplotlib->pygad) (1.4.8)\n",
            "Requirement already satisfied: packaging>=20.0 in /usr/local/lib/python3.11/dist-packages (from matplotlib->pygad) (24.2)\n",
            "Requirement already satisfied: pillow>=8 in /usr/local/lib/python3.11/dist-packages (from matplotlib->pygad) (11.2.1)\n",
            "Requirement already satisfied: pyparsing>=2.3.1 in /usr/local/lib/python3.11/dist-packages (from matplotlib->pygad) (3.2.3)\n",
            "Requirement already satisfied: python-dateutil>=2.7 in /usr/local/lib/python3.11/dist-packages (from matplotlib->pygad) (2.9.0.post0)\n",
            "Requirement already satisfied: six>=1.5 in /usr/local/lib/python3.11/dist-packages (from python-dateutil>=2.7->matplotlib->pygad) (1.17.0)\n",
            "Job sequences (job: machine order):\n",
            " Job0: [0, 3, 1, 2], times: [1, 3, 7, 6]\n",
            " Job1: [1, 0, 2, 3], times: [5, 3, 4, 6]\n",
            " Job2: [3, 0, 2, 1], times: [2, 2, 7, 2]\n",
            " Job3: [1, 0, 2, 3], times: [6, 6, 10, 5]\n",
            " Job4: [3, 0, 1, 2], times: [1, 8, 9, 2]\n",
            "Example makespan (first random individual): 50\n",
            "Best makespan found by GA: 36\n",
            "Best sequence (job-list encoding): [2. 1. 2. 4. 2. 3. 1. 0. 0. 1. 3. 3. 1. 0. 4. 4. 2. 0. 3. 4.]\n"
          ]
        },
        {
          "output_type": "display_data",
          "data": {
            "text/plain": [
              "<Figure size 800x600 with 1 Axes>"
            ],
            "image/png": "[encoded data removed]"
          },
          "metadata": {}
        }
      ]
    },
    {
      "cell_type": "markdown",
      "source": [
        "This code implements a Genetic Algorithm (GA) to tackle a Job Shop Scheduling Problem with five jobs and four machines. Each job has a random processing sequence and time. Solutions are represented as sequences of job IDs.\n",
        "\n",
        "A decoding function creates a complete schedule by assigning start and end times while ensuring jobs follow their order and machines are not overloaded. The GA aims to minimize makespan, using fitness based on the negative makespan, and applies tournament selection and swap mutation over 100 generations.\n",
        "\n",
        "Finally, the GA identifies the best schedule and visualizes it with a Gantt chart. This approach efficiently finds near-optimal solutions for larger scheduling problems, but it doesn’t guarantee the absolute best."
      ],
      "metadata": {
        "id": "KDxHhXmcbqR4"
      }
    }
  ],
  "metadata": {
    "kernelspec": {
      "display_name": "base",
      "language": "python",
      "name": "python3"
    },
    "language_info": {
      "codemirror_mode": {
        "name": "ipython",
        "version": 3
      },
      "file_extension": ".py",
      "mimetype": "text/x-python",
      "name": "python",
      "nbconvert_exporter": "python",
      "pygments_lexer": "ipython3",
      "version": "3.10.9"
    },
    "colab": {
      "provenance": [],
      "include_colab_link": true
    }
  },
  "nbformat": 4,
  "nbformat_minor": 0
}