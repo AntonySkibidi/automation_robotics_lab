{
  "cells": [
    {
      "cell_type": "markdown",
      "metadata": {
        "id": "view-in-github",
        "colab_type": "text"
      },
      "source": [
        "<a href=\"https://colab.research.google.com/github/AntonySkibidi/automation_robotics_lab/blob/master/Kopia_notatnika_lab_auto_3.ipynb\" target=\"_parent\"><img src=\"https://colab.research.google.com/assets/colab-badge.svg\" alt=\"Open In Colab\"/></a>"
      ]
    },
    {
      "cell_type": "markdown",
      "source": [
        "Antoni Paprocki 252548 Oliwier Janowski 250180 Jędrzej Simiński 250192"
      ],
      "metadata": {
        "id": "EWXfQ5g0T5V6"
      }
    },
    {
      "cell_type": "code",
      "execution_count": null,
      "metadata": {
        "id": "PUE2UP_esgGS"
      },
      "outputs": [],
      "source": [
        "!pip install pulp"
      ]
    },
    {
      "cell_type": "markdown",
      "metadata": {
        "id": "lHq254-MsgGV"
      },
      "source": [
        "# Integer Programming\n",
        "\n",
        "Integer programming is a mathematical optimization technique used when some or all of the variables in a linear programming problem must take integer values. When all variables must be either 0 or 1 (binary), we call it Binary Integer Programming.\n",
        "\n",
        "## Common applications of Integer Programming:\n",
        "\n",
        "1. **Facility location problems** - deciding where to build facilities\n",
        "2. **Resource allocation** - assigning limited resources to tasks\n",
        "3. **Scheduling** - allocating time slots to activities\n",
        "4. **Transportation and logistics** - optimizing routes and shipments\n",
        "5. **Manufacturing** - production planning and inventory control\n",
        "6. **Financial planning** - portfolio optimization with discrete investments"
      ]
    },
    {
      "cell_type": "markdown",
      "metadata": {
        "id": "KWduKfeasgGX"
      },
      "source": [
        "## Example 1: Facility Location Problem\n",
        "\n",
        "Our company already has factories in two cities (City A and City B) and is considering expanding them. We also want to build a warehouse (only one).\n",
        "\n",
        "Decision variables:\n",
        "- Build factory in City A? (x1): Added value: $9 million, capital required: $6 million\n",
        "- Build factory in City B? (x2): Added value: $5 million, capital required: $3 million\n",
        "- Build warehouse in City A? (x3): Added value: $6 million, capital required: $5 million\n",
        "- Build warehouse in City B? (x4): Added value: $4 million, capital required: $2 million\n",
        "\n",
        "Available capital: $10 million\n",
        "\n",
        "Additional constraint: A warehouse can only be built in a city if there is also a factory there.\n",
        "\n",
        "\n",
        "\n",
        "\n",
        "![image](https://github.com/AdoHaha/automation_robotics_lab/blob/master/lab3a_expl.png?raw=1)\n"
      ]
    },
    {
      "cell_type": "code",
      "execution_count": null,
      "metadata": {
        "id": "K3kx58ZusgGY"
      },
      "outputs": [],
      "source": [
        "    # Let's visualize the problem:\n",
        "    #\n",
        "    #                 City A                  City B\n",
        "    #                 ------                 ------\n",
        "    # Factory:     $9M value              $5M value\n",
        "    #              $6M cost               $3M cost\n",
        "    #                  |                      |\n",
        "    #                  v                      v\n",
        "    # Warehouse:   $6M value              $4M value\n",
        "    #              $5M cost               $2M cost\n",
        "    #\n",
        "    # Total capital available: $10M\n",
        "    # Must choose max 1 warehouse, and only where factory exists"
      ]
    },
    {
      "cell_type": "code",
      "execution_count": null,
      "metadata": {
        "id": "7ASiyM4UsgGY"
      },
      "outputs": [],
      "source": [
        "import pulp\n",
        "from pulp import *\n",
        "\n",
        "# Create the model\n",
        "prob = LpProblem(\"Facility_Location_Problem\", LpMaximize)"
      ]
    },
    {
      "cell_type": "code",
      "execution_count": null,
      "metadata": {
        "id": "cMbrkb7RsgGZ"
      },
      "outputs": [],
      "source": [
        "# Decision variables (binary: 0 or 1)\n",
        "x1 = LpVariable(\"Factory_CityA\", cat=LpBinary)\n",
        "x2 = LpVariable(\"Factory_CityB\", cat=LpBinary)\n",
        "x3 = LpVariable(\"Warehouse_CityA\", cat=LpBinary)\n",
        "x4 = LpVariable(\"Warehouse_CityB\", cat=LpBinary)"
      ]
    },
    {
      "cell_type": "code",
      "execution_count": null,
      "metadata": {
        "id": "hHya1QqzsgGZ"
      },
      "outputs": [],
      "source": [
        "# Objective function: maximize total value\n",
        "prob += 9*x1 + 5*x2 + 6*x3 + 4*x4, \"Total_Added_Value\""
      ]
    },
    {
      "cell_type": "code",
      "execution_count": null,
      "metadata": {
        "id": "5jCVOgZXsgGa"
      },
      "outputs": [],
      "source": [
        "# Constraints\n",
        "# 1. Capital constraint\n",
        "prob += 6*x1 + 3*x2 + 5*x3 + 2*x4 <= 10, \"Available_Capital\"\n",
        "\n",
        "# 2. Only one warehouse\n",
        "prob += x3 + x4 <= 1, \"Maximum_One_Warehouse\"\n",
        "\n",
        "# 3. Warehouse can only be built if factory exists in same city\n",
        "prob += x1 - x3 >= 0, \"CityA_Warehouse_Requires_Factory\"\n",
        "prob += x2 - x4 >= 0, \"CityB_Warehouse_Requires_Factory\""
      ]
    },
    {
      "cell_type": "code",
      "execution_count": null,
      "metadata": {
        "id": "I0YmI1wbsgGa"
      },
      "outputs": [],
      "source": [
        "# Helper function to print the solution\n",
        "def print_solution(p):\n",
        "    p.solve()\n",
        "    print(\"Status:\", LpStatus[p.status])\n",
        "    for v in p.variables():\n",
        "        print(v.name, \"=\", v.varValue)\n",
        "    print(\"Objective value =\", value(p.objective))"
      ]
    },
    {
      "cell_type": "code",
      "execution_count": null,
      "metadata": {
        "id": "HsojHg3-sgGb"
      },
      "outputs": [],
      "source": [
        "# Solve the problem\n",
        "print_solution(prob)"
      ]
    },
    {
      "cell_type": "markdown",
      "metadata": {
        "id": "6BOt3Tk-sgGb"
      },
      "source": [
        "## Binary Problems\n",
        "\n",
        "Binary integer programming is used for \"yes/no\" decision problems such as:\n",
        "- Which route to choose\n",
        "- Which truck to use\n",
        "- Whether to make an investment\n",
        "\n",
        "We can also model more complex logical conditions using binary variables."
      ]
    },
    {
      "cell_type": "markdown",
      "metadata": {
        "id": "HrwdlHarsgGb"
      },
      "source": [
        "## Example 2: Modeling Logical Constraints\n",
        "\n",
        "Sometimes we need to model that ONE of two constraints must be satisfied, but not necessarily both.\n",
        "\n",
        "For example, maximize x + y where 0 ≤ x ≤ 10, 0 ≤ y ≤ 10, and EITHER (x + y ≤ 3) OR (3y + x ≤ 3).\n",
        "\n",
        "We can use a binary variable z to implement this logical OR:"
      ]
    },
    {
      "cell_type": "code",
      "execution_count": null,
      "metadata": {
        "id": "lfuPHHmqsgGc"
      },
      "outputs": [],
      "source": [
        "prob2 = LpProblem(\"Alternative_Constraints_Problem\", LpMaximize)\n",
        "\n",
        "# Continuous variables\n",
        "x = LpVariable(\"x\", 0, 10, cat=LpContinuous)\n",
        "y = LpVariable(\"y\", 0, 10, cat=LpContinuous)\n",
        "\n",
        "# Binary variable to implement logical OR\n",
        "z = LpVariable(\"ignore_first_constraint\", cat=LpBinary)\n",
        "\n",
        "# Objective function\n",
        "prob2 += x + y, \"Simple_Sum\"\n",
        "\n",
        "# If z=1, first constraint is relaxed (ignored)\n",
        "# If z=0, second constraint is relaxed (ignored)\n",
        "M = 10000  # A very large number\n",
        "prob2 += x + y <= 3 + M*z, \"first_constraint\"\n",
        "prob2 += 3*x - y <= 3 + M*(1-z), \"second_constraint\"\n",
        "\n",
        "# Solve and display results\n",
        "print_solution(prob2)\n",
        "print(prob2)"
      ]
    },
    {
      "cell_type": "markdown",
      "metadata": {
        "id": "CEVQAFl_sgGc"
      },
      "source": [
        "## Example 3: Scheduling Problem\n",
        "\n",
        "Let's consider a scheduling problem where we need to assign employees to workdays.\n",
        "\n",
        "### Problem description:\n",
        "- We have three employees: Anna, Kate, and Peter\n",
        "- Each employee can work up to 3 days per week\n",
        "- Daily rates are: Anna ($150), Kate ($160), Peter ($140)\n",
        "- Anna can't work on Monday, Peter can't work on Thursday and Friday\n",
        "- On Tuesday we need 2 employees, on other days we need 1 employee\n",
        "- Goal: minimize the total cost\n",
        "\n",
        "This is a perfect application for integer programming with binary variables."
      ]
    },
    {
      "cell_type": "code",
      "execution_count": null,
      "metadata": {
        "id": "r9bDRt7TsgGc"
      },
      "outputs": [],
      "source": [
        "prob3 = LpProblem(\"Scheduling_Problem\", LpMinimize)\n",
        "\n",
        "# Define data\n",
        "days = [\"mon\", \"tue\", \"wed\", \"thu\", \"fri\"]\n",
        "employees = [\"Anna\", \"Kate\", \"Peter\"]\n",
        "costs = [150, 160, 140]  # daily rates\n",
        "\n",
        "# Create binary decision variables for each employee on each day\n",
        "schedule = LpVariable.dicts(\"Schedule\", (employees, days), cat=\"Binary\")"
      ]
    },
    {
      "cell_type": "code",
      "execution_count": null,
      "metadata": {
        "id": "hJnw7sFFsgGd"
      },
      "outputs": [],
      "source": [
        "# Objective function: minimize total cost\n",
        "prob3 += lpSum([costs[i] * lpSum([schedule[employee][day] for day in days])\n",
        "                for i, employee in enumerate(employees)])"
      ]
    },
    {
      "cell_type": "code",
      "execution_count": null,
      "metadata": {
        "id": "OcQKktJSsgGd"
      },
      "outputs": [],
      "source": [
        "# Constraint: required number of employees each day\n",
        "required_employees = [1, 2, 1, 1, 1]  # mon, tue, wed, thu, fri\n",
        "for day, required in zip(days, required_employees):\n",
        "    prob3 += lpSum([schedule[employee][day] for employee in employees]) == required\n",
        "\n",
        "# Constraint: employee availability\n",
        "prob3 += schedule[\"Anna\"][\"mon\"] == 0  # Anna can't work Monday\n",
        "prob3 += schedule[\"Peter\"][\"thu\"] == 0  # Peter can't work Thursday\n",
        "prob3 += schedule[\"Peter\"][\"fri\"] == 0  # Peter can't work Friday\n",
        "\n",
        "# Constraint: maximum workdays per employee\n",
        "for employee in employees:\n",
        "    prob3 += lpSum([schedule[employee][day] for day in days]) <= 3"
      ]
    },
    {
      "cell_type": "code",
      "execution_count": null,
      "metadata": {
        "id": "owGiu8qGsgGd"
      },
      "outputs": [],
      "source": [
        "# Solve and print the solution\n",
        "print_solution(prob3)"
      ]
    },
    {
      "cell_type": "markdown",
      "metadata": {
        "id": "vjeOEDYjsgGd"
      },
      "source": [
        "# Excercise 1\n",
        "\n",
        "1) Extend the example to four Emploeeys: there is also Mark, who can work on any day and his rate is the lowest: $100 per day but he can work up to 4 days per week.\n",
        "\n",
        "2) Add a constraint(s) that Mark can work only if Anna is not there (use logical constraint)\n",
        "\n",
        "3) Bonus:  Make the program interactive: add a checkbox to show which employees are available (and which are not)\n"
      ]
    },
    {
      "cell_type": "markdown",
      "metadata": {
        "id": "13YseQVCsgGd"
      },
      "source": [
        "## Extension: Hourly Scheduling\n",
        "\n",
        "We can extend the scheduling problem to assign specific hours rather than just days.\n",
        "\n",
        "### Revised problem:\n",
        "- Each employee can work up to 24 hours per week\n",
        "- Hourly rates: Anna ($15), Kate ($16), Peter ($14)\n",
        "- Tuesday requires 12 hours of work, other days require 8 hours\n",
        "- Other constraints remain the same\n",
        "\n",
        "This requires integer (not just binary) variables to represent hours worked."
      ]
    },
    {
      "cell_type": "code",
      "execution_count": null,
      "metadata": {
        "id": "lXWPBpyCsgGe",
        "outputId": "24dbd295-a1f9-4163-a095-2f761b45f4f3",
        "colab": {
          "base_uri": "https://localhost:8080/"
        }
      },
      "outputs": [
        {
          "output_type": "stream",
          "name": "stdout",
          "text": [
            "Requirement already satisfied: pulp in /usr/local/lib/python3.11/dist-packages (3.1.1)\n",
            "Status: Optimal\n",
            "\n",
            "Anna: Total Hours = 0.0\n",
            "\n",
            "Kate: Total Hours = 0.0\n",
            "\n",
            "Peter: Total Hours = 20.0\n",
            "  mon: 8.0 hrs\n",
            "  tue: 4.0 hrs\n",
            "  wed: 8.0 hrs\n",
            "\n",
            "Mark: Total Hours = 24.0\n",
            "  tue: 8.0 hrs\n",
            "  thu: 8.0 hrs\n",
            "  fri: 8.0 hrs\n"
          ]
        }
      ],
      "source": [
        "!pip install pulp\n",
        "\n",
        "import pulp\n",
        "\n",
        "\n",
        "employees = ['Anna', 'Kate', 'Peter', 'Mark']\n",
        "days = ['mon', 'tue', 'wed', 'thu', 'fri']\n",
        "\n",
        "#Hourly rates\n",
        "hourly_rates = {\n",
        "    'Anna': 15,\n",
        "    'Kate': 16,\n",
        "    'Peter': 14,\n",
        "    'Mark': 100 / 8\n",
        "}\n",
        "max_hours = {e: 24 for e in employees}\n",
        "\n",
        "#Hourly requirements\n",
        "hours_required = {\n",
        "    'mon': 8,\n",
        "    'tue': 12,\n",
        "    'wed': 8,\n",
        "    'thu': 8,\n",
        "    'fri': 8\n",
        "}\n",
        "prob = pulp.LpProblem(\"Hourly_Scheduling_Problem\", pulp.LpMinimize)\n",
        "hours = pulp.LpVariable.dicts(\n",
        "    \"Hours\",\n",
        "    (employees, days),\n",
        "    lowBound=0,\n",
        "    upBound=24,\n",
        "    cat=pulp.LpInteger\n",
        ")\n",
        "work = pulp.LpVariable.dicts(\n",
        "    \"Work\",\n",
        "    (employees, days),\n",
        "    cat=pulp.LpBinary\n",
        ")\n",
        "\n",
        "#minimize total cost\n",
        "prob += pulp.lpSum(\n",
        "    hourly_rates[e] * hours[e][d]\n",
        "    for e in employees\n",
        "    for d in days\n",
        "), \"Total_Cost\"\n",
        "\n",
        "for d, req in hours_required.items():\n",
        "    prob += (\n",
        "        pulp.lpSum(hours[e][d] for e in employees) == req\n",
        "    ), f\"Requirement_{d}\"\n",
        "\n",
        "for e in employees:\n",
        "    for d in days:\n",
        "        prob += hours[e][d] <= 24 * work[e][d]\n",
        "        prob += hours[e][d] >= work[e][d]\n",
        "\n",
        "#Availability\n",
        "prob += hours['Anna']['mon'] == 0, \"Anna_no_mon\"\n",
        "prob += hours['Peter']['thu'] == 0, \"Peter_no_thu\"\n",
        "prob += hours['Peter']['fri'] == 0, \"Peter_no_fri\"\n",
        "\n",
        "for e in employees:\n",
        "    prob += pulp.lpSum(hours[e][d] for d in days) <= max_hours[e], f\"MaxHours_{e}\"\n",
        "\n",
        "prob += pulp.lpSum(work['Mark'][d] for d in days) <= 4, \"Mark_max_days\"\n",
        "\n",
        "#Mark works only if Anna does not\n",
        "for d in days:\n",
        "    prob += work['Mark'][d] + work['Anna'][d] <= 1, f\"Mark_not_with_Anna_{d}\"\n",
        "\n",
        "prob.solve()\n",
        "print(f\"Status: {pulp.LpStatus[prob.status]}\")\n",
        "for e in employees:\n",
        "    total = sum(pulp.value(hours[e][d]) for d in days)\n",
        "    print(f\"\\n{e}: Total Hours = {total}\")\n",
        "    for d in days:\n",
        "        h = pulp.value(hours[e][d])\n",
        "        if h > 0:\n",
        "            print(f\"  {d}: {h} hrs\")"
      ]
    },
    {
      "cell_type": "markdown",
      "source": [
        "The goal is to assign work hours to four employees over five weekdays to minimize labor costs while fulfilling daily hour requirements.\n",
        "\n",
        "Key points:\n",
        "\n",
        "-Each employee has a specific pay rate and maximum weekly hours.\n",
        "-We need to track daily hours and whether each employee worked using binary variables.\n",
        "-Total cost is calculated by multiplying hourly rates by hours worked.\n",
        "\n",
        "Constraints include:\n",
        "\n",
        "1. Daily scheduled hours must meet requirements.\n",
        "2. Employees can log hours only if active.\n",
        "3. Some have day restrictions (example Anna can't work Mondays, Peter can't work Thursdays and Fridays).\n",
        "4. No employee can exceed their maximum hours.\n",
        "5. Mark can work a maximum of four days.\n",
        "6. Mark and Anna cannot work on the same day.\n",
        "\n",
        "The results show total hours assigned and work schedules for each employee."
      ],
      "metadata": {
        "id": "B6hHl7SgVCwf"
      }
    },
    {
      "cell_type": "code",
      "execution_count": null,
      "metadata": {
        "colab": {
          "base_uri": "https://localhost:8080/"
        },
        "id": "mH_ilIiHsgGe",
        "outputId": "4e3d05a2-2bef-44a9-c9e9-ee57e8879fc5"
      },
      "outputs": [
        {
          "output_type": "stream",
          "name": "stdout",
          "text": [
            "Requirement already satisfied: pulp in /usr/local/lib/python3.11/dist-packages (3.1.1)\n",
            "Status: Optimal\n",
            "\n",
            "Anna: Total Hours = 0.0\n",
            "\n",
            "Kate: Total Hours = 6.0\n",
            "  thu: 3.0 hrs\n",
            "  fri: 3.0 hrs\n",
            "\n",
            "Peter: Total Hours = 18.0\n",
            "  mon: 8.0 hrs\n",
            "  tue: 7.0 hrs\n",
            "  wed: 3.0 hrs\n",
            "\n",
            "Mark: Total Hours = 20.0\n",
            "  tue: 5.0 hrs\n",
            "  wed: 5.0 hrs\n",
            "  thu: 5.0 hrs\n",
            "  fri: 5.0 hrs\n"
          ]
        }
      ],
      "source": [
        "# Excercise 2\n",
        "\n",
        "#1) Extend the example to four Emploeeys: there is also Mark, who can work on any day and his rate is the lowest: $100 per day but he can work up to 4 days per week.\n",
        "\n",
        "#2) Add a constraint(s) that Mark can work 5h\n",
        "\n",
        "!pip install pulp\n",
        "\n",
        "import pulp\n",
        "\n",
        "employees = ['Anna', 'Kate', 'Peter', 'Mark']\n",
        "days = ['mon', 'tue', 'wed', 'thu', 'fri']\n",
        "\n",
        "#Hourly rates\n",
        "hourly_rates = {\n",
        "    'Anna': 15,\n",
        "    'Kate': 16,\n",
        "    'Peter': 14,\n",
        "    'Mark': 100 / 8\n",
        "}\n",
        "\n",
        "#Maxhours\n",
        "max_hours = {e: 24 for e in employees}\n",
        "\n",
        "#Hourly requirement\n",
        "hours_required = {\n",
        "    'mon': 8,\n",
        "    'tue': 12,\n",
        "    'wed': 8,\n",
        "    'thu': 8,\n",
        "    'fri': 8\n",
        "}\n",
        "\n",
        "\n",
        "prob = pulp.LpProblem(\"Hourly_Scheduling_Problem\", pulp.LpMinimize)\n",
        "hours = pulp.LpVariable.dicts(\n",
        "    \"Hours\",\n",
        "    (employees, days),\n",
        "    lowBound=0,\n",
        "    upBound=24,\n",
        "    cat=pulp.LpInteger\n",
        ")\n",
        "work = pulp.LpVariable.dicts(\n",
        "    \"Work\",\n",
        "    (employees, days),\n",
        "    cat=pulp.LpBinary\n",
        ")\n",
        "\n",
        "#Minimize total cost\n",
        "prob += pulp.lpSum(\n",
        "    hourly_rates[e] * hours[e][d]\n",
        "    for e in employees\n",
        "    for d in days\n",
        "), \"Total_Cost\"\n",
        "\n",
        "#Constraints\n",
        "#Meet daily hour requirements\n",
        "for d, req in hours_required.items():\n",
        "    prob += (\n",
        "        pulp.lpSum(hours[e][d] for e in employees) == req\n",
        "    ), f\"Requirement_{d}\"\n",
        "for e in employees:\n",
        "    for d in days:\n",
        "        prob += hours[e][d] <= 24 * work[e][d]\n",
        "        prob += hours[e][d] >= work[e][d]\n",
        "\n",
        "#Availability\n",
        "prob += hours['Anna']['mon'] == 0, \"Anna_no_mon\"\n",
        "prob += hours['Peter']['thu'] == 0, \"Peter_no_thu\"\n",
        "prob += hours['Peter']['fri'] == 0, \"Peter_no_fri\"\n",
        "\n",
        "#Weekly max hours\n",
        "for e in employees:\n",
        "    prob += pulp.lpSum(hours[e][d] for d in days) <= max_hours[e], f\"MaxHours_{e}\"\n",
        "\n",
        "#Mark\n",
        "prob += pulp.lpSum(work['Mark'][d] for d in days) <= 4, \"Mark_max_days\"\n",
        "for d in days:\n",
        "    prob += hours['Mark'][d] <= 5, f\"Mark_max_hours_per_day_{d}\"\n",
        "for d in days:\n",
        "    prob += work['Mark'][d] + work['Anna'][d] <= 1, f\"Mark_not_with_Anna_{d}\"\n",
        "\n",
        "# Solve\n",
        "prob.solve()\n",
        "\n",
        "# Results\n",
        "print(f\"Status: {pulp.LpStatus[prob.status]}\")\n",
        "for e in employees:\n",
        "    total = sum(pulp.value(hours[e][d]) for d in days)\n",
        "    print(f\"\\n{e}: Total Hours = {total}\")\n",
        "    for d in days:\n",
        "        h = pulp.value(hours[e][d])\n",
        "        if h > 0:\n",
        "            print(f\"  {d}: {h} hrs\")"
      ]
    },
    {
      "cell_type": "markdown",
      "source": [
        "Your code perfectly extends the original scheduling problem by:\n",
        "\n",
        "1. Adding Mark as a fourth employee with his hourly rate and availability.\n",
        "2. Adding constraints so that Mark can only work up to 4 days a week.\n",
        "3. Adding a new constraint to limit Mark’s daily working hours to 5 hours maximum.\n",
        "4. Maintaining all previous constraints like daily hour requirements, availability restrictions, and logical constraints where Mark and Anna cannot work together on the same day.\n"
      ],
      "metadata": {
        "id": "liUt1b6dVa5v"
      }
    },
    {
      "cell_type": "markdown",
      "metadata": {
        "id": "WKrBCX8NsgGe"
      },
      "source": [
        "## Conclusion\n",
        "\n",
        "Integer programming is a powerful tool for solving optimization problems with discrete decisions. It's particularly useful in scheduling, where we often need to assign resources (like employees) to specific time slots subject to various constraints.\n",
        "\n",
        "The key benefits include:\n",
        "1. Ability to model logical conditions (AND, OR, IF-THEN)\n",
        "2. Natural representation of indivisible resources\n",
        "3. Optimal solutions for complex constraint satisfaction problems\n",
        "\n",
        "However, integer programming problems can be computationally intensive as the number of variables increases."
      ]
    }
  ],
  "metadata": {
    "kernelspec": {
      "display_name": "base",
      "language": "python",
      "name": "python3"
    },
    "language_info": {
      "codemirror_mode": {
        "name": "ipython",
        "version": 3
      },
      "file_extension": ".py",
      "mimetype": "text/x-python",
      "name": "python",
      "nbconvert_exporter": "python",
      "pygments_lexer": "ipython3",
      "version": "3.7.3"
    },
    "colab": {
      "provenance": [],
      "include_colab_link": true
    }
  },
  "nbformat": 4,
  "nbformat_minor": 0
}